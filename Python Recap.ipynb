{
 "cells": [
  {
   "cell_type": "code",
   "execution_count": 1,
   "id": "e141c70f",
   "metadata": {},
   "outputs": [
    {
     "name": "stdout",
     "output_type": "stream",
     "text": [
      "[23, 21, 100]\n"
     ]
    }
   ],
   "source": [
    "# simple datas structures\n",
    "x = 23\n",
    "y = 21\n",
    "z = 100\n",
    "ages = [x,y,z]\n",
    "print(ages)"
   ]
  },
  {
   "cell_type": "code",
   "execution_count": 4,
   "id": "a94c3026",
   "metadata": {},
   "outputs": [
    {
     "data": {
      "text/plain": [
       "23"
      ]
     },
     "execution_count": 4,
     "metadata": {},
     "output_type": "execute_result"
    }
   ],
   "source": [
    "# slicing \n",
    "ages[1:]\n",
    "# indexing\n",
    "ages[0]"
   ]
  },
  {
   "cell_type": "code",
   "execution_count": 6,
   "id": "85493f82",
   "metadata": {},
   "outputs": [
    {
     "name": "stdout",
     "output_type": "stream",
     "text": [
      "{'name': 'éric', 'age': 23, 'height': 173}\n"
     ]
    }
   ],
   "source": [
    "# dictionaries\n",
    "x = {\n",
    "    \"name\":'éric',\n",
    "    'age':23,\n",
    "    'height':173\n",
    "}\n",
    "print(x)"
   ]
  },
  {
   "cell_type": "code",
   "execution_count": 7,
   "id": "fac7b03b",
   "metadata": {},
   "outputs": [
    {
     "data": {
      "text/plain": [
       "array([ 21,  86, 322,  89])"
      ]
     },
     "execution_count": 7,
     "metadata": {},
     "output_type": "execute_result"
    }
   ],
   "source": [
    "# arrays (Numpy)\n",
    "weight = [21,86,322,89]\n",
    "import numpy as np\n",
    "weight_array = np.array(weight)\n",
    "weight_array"
   ]
  },
  {
   "cell_type": "code",
   "execution_count": 11,
   "id": "0b653692",
   "metadata": {},
   "outputs": [
    {
     "name": "stdout",
     "output_type": "stream",
     "text": [
      "518\n",
      "129.5\n",
      "21\n",
      "322\n"
     ]
    }
   ],
   "source": [
    "# you can run some sumamries on numpy arrays\n",
    "print(weight_array.sum())\n",
    "print(weight_array.mean())\n",
    "#print(weight_array.mode())\n",
    "print(weight_array.min())\n",
    "print(weight_array.max())"
   ]
  },
  {
   "cell_type": "code",
   "execution_count": 14,
   "id": "8fd3e6e7",
   "metadata": {},
   "outputs": [
    {
     "data": {
      "text/html": [
       "<div>\n",
       "<style scoped>\n",
       "    .dataframe tbody tr th:only-of-type {\n",
       "        vertical-align: middle;\n",
       "    }\n",
       "\n",
       "    .dataframe tbody tr th {\n",
       "        vertical-align: top;\n",
       "    }\n",
       "\n",
       "    .dataframe thead th {\n",
       "        text-align: right;\n",
       "    }\n",
       "</style>\n",
       "<table border=\"1\" class=\"dataframe\">\n",
       "  <thead>\n",
       "    <tr style=\"text-align: right;\">\n",
       "      <th></th>\n",
       "      <th>names</th>\n",
       "      <th>ages</th>\n",
       "      <th>weight</th>\n",
       "    </tr>\n",
       "  </thead>\n",
       "  <tbody>\n",
       "    <tr>\n",
       "      <th>0</th>\n",
       "      <td>John</td>\n",
       "      <td>33</td>\n",
       "      <td>88</td>\n",
       "    </tr>\n",
       "    <tr>\n",
       "      <th>1</th>\n",
       "      <td>alex</td>\n",
       "      <td>23</td>\n",
       "      <td>75</td>\n",
       "    </tr>\n",
       "    <tr>\n",
       "      <th>2</th>\n",
       "      <td>jimmy</td>\n",
       "      <td>32</td>\n",
       "      <td>65</td>\n",
       "    </tr>\n",
       "    <tr>\n",
       "      <th>3</th>\n",
       "      <td>martin</td>\n",
       "      <td>25</td>\n",
       "      <td>53</td>\n",
       "    </tr>\n",
       "    <tr>\n",
       "      <th>4</th>\n",
       "      <td>newton</td>\n",
       "      <td>28</td>\n",
       "      <td>110</td>\n",
       "    </tr>\n",
       "  </tbody>\n",
       "</table>\n",
       "</div>"
      ],
      "text/plain": [
       "    names  ages  weight\n",
       "0    John    33      88\n",
       "1    alex    23      75\n",
       "2   jimmy    32      65\n",
       "3  martin    25      53\n",
       "4  newton    28     110"
      ]
     },
     "execution_count": 14,
     "metadata": {},
     "output_type": "execute_result"
    }
   ],
   "source": [
    "# pandas are just tables in python\n",
    "import pandas as pd\n",
    "data = pd.DataFrame()\n",
    "data['names'] = ['John','alex','jimmy','martin','newton']\n",
    "data['ages'] = [33,23,32,25,28]\n",
    "data['weight'] = [88,75,65,53,110]\n",
    "data.head()# shows top 5\n",
    "data.tail()# shows bottom 5"
   ]
  },
  {
   "cell_type": "code",
   "execution_count": 15,
   "id": "cd3badf3",
   "metadata": {},
   "outputs": [
    {
     "name": "stdout",
     "output_type": "stream",
     "text": [
      "<class 'pandas.core.frame.DataFrame'>\n",
      "RangeIndex: 5 entries, 0 to 4\n",
      "Data columns (total 3 columns):\n",
      " #   Column  Non-Null Count  Dtype \n",
      "---  ------  --------------  ----- \n",
      " 0   names   5 non-null      object\n",
      " 1   ages    5 non-null      int64 \n",
      " 2   weight  5 non-null      int64 \n",
      "dtypes: int64(2), object(1)\n",
      "memory usage: 248.0+ bytes\n"
     ]
    },
    {
     "data": {
      "text/html": [
       "<div>\n",
       "<style scoped>\n",
       "    .dataframe tbody tr th:only-of-type {\n",
       "        vertical-align: middle;\n",
       "    }\n",
       "\n",
       "    .dataframe tbody tr th {\n",
       "        vertical-align: top;\n",
       "    }\n",
       "\n",
       "    .dataframe thead th {\n",
       "        text-align: right;\n",
       "    }\n",
       "</style>\n",
       "<table border=\"1\" class=\"dataframe\">\n",
       "  <thead>\n",
       "    <tr style=\"text-align: right;\">\n",
       "      <th></th>\n",
       "      <th>ages</th>\n",
       "      <th>weight</th>\n",
       "    </tr>\n",
       "  </thead>\n",
       "  <tbody>\n",
       "    <tr>\n",
       "      <th>count</th>\n",
       "      <td>5.00000</td>\n",
       "      <td>5.000000</td>\n",
       "    </tr>\n",
       "    <tr>\n",
       "      <th>mean</th>\n",
       "      <td>28.20000</td>\n",
       "      <td>78.200000</td>\n",
       "    </tr>\n",
       "    <tr>\n",
       "      <th>std</th>\n",
       "      <td>4.32435</td>\n",
       "      <td>21.947665</td>\n",
       "    </tr>\n",
       "    <tr>\n",
       "      <th>min</th>\n",
       "      <td>23.00000</td>\n",
       "      <td>53.000000</td>\n",
       "    </tr>\n",
       "    <tr>\n",
       "      <th>25%</th>\n",
       "      <td>25.00000</td>\n",
       "      <td>65.000000</td>\n",
       "    </tr>\n",
       "    <tr>\n",
       "      <th>50%</th>\n",
       "      <td>28.00000</td>\n",
       "      <td>75.000000</td>\n",
       "    </tr>\n",
       "    <tr>\n",
       "      <th>75%</th>\n",
       "      <td>32.00000</td>\n",
       "      <td>88.000000</td>\n",
       "    </tr>\n",
       "    <tr>\n",
       "      <th>max</th>\n",
       "      <td>33.00000</td>\n",
       "      <td>110.000000</td>\n",
       "    </tr>\n",
       "  </tbody>\n",
       "</table>\n",
       "</div>"
      ],
      "text/plain": [
       "           ages      weight\n",
       "count   5.00000    5.000000\n",
       "mean   28.20000   78.200000\n",
       "std     4.32435   21.947665\n",
       "min    23.00000   53.000000\n",
       "25%    25.00000   65.000000\n",
       "50%    28.00000   75.000000\n",
       "75%    32.00000   88.000000\n",
       "max    33.00000  110.000000"
      ]
     },
     "execution_count": 15,
     "metadata": {},
     "output_type": "execute_result"
    }
   ],
   "source": [
    "data.info()# -  gives the info on the colums\n",
    "data.describe()# gives summary stats on all numeric columns\n"
   ]
  },
  {
   "cell_type": "code",
   "execution_count": 16,
   "id": "26b5492c",
   "metadata": {},
   "outputs": [
    {
     "data": {
      "text/plain": [
       "0     88\n",
       "1     75\n",
       "2     65\n",
       "3     53\n",
       "4    110\n",
       "Name: weight, dtype: int64"
      ]
     },
     "execution_count": 16,
     "metadata": {},
     "output_type": "execute_result"
    }
   ],
   "source": [
    "# exctract one column\n",
    "data['weight']"
   ]
  },
  {
   "cell_type": "code",
   "execution_count": 17,
   "id": "95dc9521",
   "metadata": {},
   "outputs": [
    {
     "data": {
      "text/html": [
       "<div>\n",
       "<style scoped>\n",
       "    .dataframe tbody tr th:only-of-type {\n",
       "        vertical-align: middle;\n",
       "    }\n",
       "\n",
       "    .dataframe tbody tr th {\n",
       "        vertical-align: top;\n",
       "    }\n",
       "\n",
       "    .dataframe thead th {\n",
       "        text-align: right;\n",
       "    }\n",
       "</style>\n",
       "<table border=\"1\" class=\"dataframe\">\n",
       "  <thead>\n",
       "    <tr style=\"text-align: right;\">\n",
       "      <th></th>\n",
       "      <th>names</th>\n",
       "      <th>weight</th>\n",
       "    </tr>\n",
       "  </thead>\n",
       "  <tbody>\n",
       "    <tr>\n",
       "      <th>0</th>\n",
       "      <td>John</td>\n",
       "      <td>88</td>\n",
       "    </tr>\n",
       "    <tr>\n",
       "      <th>1</th>\n",
       "      <td>alex</td>\n",
       "      <td>75</td>\n",
       "    </tr>\n",
       "    <tr>\n",
       "      <th>2</th>\n",
       "      <td>jimmy</td>\n",
       "      <td>65</td>\n",
       "    </tr>\n",
       "    <tr>\n",
       "      <th>3</th>\n",
       "      <td>martin</td>\n",
       "      <td>53</td>\n",
       "    </tr>\n",
       "    <tr>\n",
       "      <th>4</th>\n",
       "      <td>newton</td>\n",
       "      <td>110</td>\n",
       "    </tr>\n",
       "  </tbody>\n",
       "</table>\n",
       "</div>"
      ],
      "text/plain": [
       "    names  weight\n",
       "0    John      88\n",
       "1    alex      75\n",
       "2   jimmy      65\n",
       "3  martin      53\n",
       "4  newton     110"
      ]
     },
     "execution_count": 17,
     "metadata": {},
     "output_type": "execute_result"
    }
   ],
   "source": [
    "# extract two or more columns\n",
    "data[['names','weight']]"
   ]
  },
  {
   "cell_type": "code",
   "execution_count": 21,
   "id": "ab91b6a7",
   "metadata": {},
   "outputs": [
    {
     "data": {
      "text/plain": [
       "0    0.375000\n",
       "1    0.306667\n",
       "2    0.492308\n",
       "3    0.471698\n",
       "4    0.254545\n",
       "dtype: float64"
      ]
     },
     "execution_count": 21,
     "metadata": {},
     "output_type": "execute_result"
    }
   ],
   "source": [
    "# do mathematical analysis on columns line divide one with the otehr\n",
    "data['ages']/data['weight']"
   ]
  },
  {
   "cell_type": "code",
   "execution_count": 25,
   "id": "bbc9f5f9",
   "metadata": {},
   "outputs": [
    {
     "name": "stdout",
     "output_type": "stream",
     "text": [
      "0      John\n",
      "1      alex\n",
      "2     jimmy\n",
      "3    martin\n",
      "4    newton\n",
      "Name: names, dtype: object\n",
      "['JOHN', 'ALEX', 'JIMMY', 'MARTIN', 'NEWTON']\n",
      "['John', 'Alex', 'Jimmy', 'Martin', 'Newton']\n"
     ]
    }
   ],
   "source": [
    "# for loop on pandas columns\n",
    "name = data['names']\n",
    "print(name)\n",
    "# we want to capitalize all the words\n",
    "# empoty list\n",
    "empty = []\n",
    "caps = []\n",
    "\n",
    "for nam in name:\n",
    "    nam_cap = nam.upper()\n",
    "    empty.append(nam_cap)\n",
    "    caps.append(nam.capitalize())\n",
    "print(empty)\n",
    "print(caps)"
   ]
  },
  {
   "cell_type": "code",
   "execution_count": 28,
   "id": "01fa93d0",
   "metadata": {},
   "outputs": [
    {
     "name": "stdout",
     "output_type": "stream",
     "text": [
      "mukimo\n",
      "burger\n",
      "thende\n",
      "thende\n"
     ]
    }
   ],
   "source": [
    "foods = ['mukimo','burger','çhips','uji']\n",
    "for food in foods:\n",
    "    if len(food)>5:\n",
    "        print(food)\n",
    "    else:\n",
    "        print('thende')"
   ]
  },
  {
   "cell_type": "code",
   "execution_count": 31,
   "id": "2aa4c56d",
   "metadata": {},
   "outputs": [
    {
     "data": {
      "text/plain": [
       "'dwarf'"
      ]
     },
     "execution_count": 31,
     "metadata": {},
     "output_type": "execute_result"
    }
   ],
   "source": [
    "# functions \n",
    "\n",
    "girls = {\n",
    "    'patience':150,\n",
    "    'jessy':164,\n",
    "    'eva':190,\n",
    "    \"alice\":100\n",
    "}\n",
    "\n",
    "def height_function(haga):\n",
    "    if haga<130:\n",
    "        return 'dwarf'\n",
    "    elif haga<150:\n",
    "        return 'mid_sized'\n",
    "    else:\n",
    "        return 'giant'\n",
    "    \n",
    "height_function(girls[\"alice\"])"
   ]
  },
  {
   "cell_type": "code",
   "execution_count": 34,
   "id": "5370c5b5",
   "metadata": {},
   "outputs": [],
   "source": [
    "def IQ():\n",
    "    iq = input(\"please give me your iq points:\")\n",
    "    iq = int(iq)\n",
    "    if iq<100:\n",
    "        return 'clinical moron'\n",
    "    elif iq<110:\n",
    "        return 'ordinary intelligence'\n",
    "    elif iq<130:\n",
    "        return 'bright'\n",
    "    elif iq<151:\n",
    "        return 'extremely bright'\n",
    "    elif iq<180:\n",
    "        return 'genius'\n",
    "    else:\n",
    "        'polymath'"
   ]
  },
  {
   "cell_type": "code",
   "execution_count": null,
   "id": "f6ada1a7",
   "metadata": {},
   "outputs": [],
   "source": [
    "IQ()"
   ]
  },
  {
   "cell_type": "code",
   "execution_count": null,
   "id": "7ab614ad",
   "metadata": {},
   "outputs": [],
   "source": []
  }
 ],
 "metadata": {
  "kernelspec": {
   "display_name": "Python 3 (ipykernel)",
   "language": "python",
   "name": "python3"
  },
  "language_info": {
   "codemirror_mode": {
    "name": "ipython",
    "version": 3
   },
   "file_extension": ".py",
   "mimetype": "text/x-python",
   "name": "python",
   "nbconvert_exporter": "python",
   "pygments_lexer": "ipython3",
   "version": "3.11.1"
  }
 },
 "nbformat": 4,
 "nbformat_minor": 5
}
